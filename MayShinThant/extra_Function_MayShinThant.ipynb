{
  "cells": [
    {
      "cell_type": "raw",
      "id": "dcb4f63a",
      "metadata": {
        "id": "dcb4f63a"
      },
      "source": [
        "Q1. Write a Python function to find the minimum of five numbers."
      ]
    },
    {
      "cell_type": "code",
      "source": [
        "def find_minimum(a, b, c, d, e):\n",
        "    return min(a, b, c, d, e)\n",
        "\n",
        "num1 = 5\n",
        "num2 = 3\n",
        "num3 = 8\n",
        "num4 = 1\n",
        "num5 = 9\n",
        "\n",
        "minimum = find_minimum(num1, num2, num3, num4, num5)\n",
        "print(f\"The minimum of the five numbers is: {minimum}\")"
      ],
      "metadata": {
        "colab": {
          "base_uri": "https://localhost:8080/"
        },
        "id": "mGq2koVQAKJe",
        "outputId": "c0d9fee2-d03d-421e-f336-6cedab10c773"
      },
      "id": "mGq2koVQAKJe",
      "execution_count": 1,
      "outputs": [
        {
          "output_type": "stream",
          "name": "stdout",
          "text": [
            "The minimum of the five numbers is: 1\n"
          ]
        }
      ]
    },
    {
      "cell_type": "raw",
      "id": "3a840d6c",
      "metadata": {
        "id": "3a840d6c"
      },
      "source": [
        ":Q2. Write a Python function to add all the numbers in a given list.\n",
        "ls = [23, 34, 56, 70, 81, 90]"
      ]
    },
    {
      "cell_type": "code",
      "source": [
        "def add_numbers_in_list(ls):\n",
        "    total = 0\n",
        "    for num in ls:\n",
        "        total += num\n",
        "    return total\n",
        "\n",
        "ls = [23, 34, 56, 70, 81, 90]\n",
        "\n",
        "result = add_numbers_in_list(ls)\n",
        "print(f\"The sum of all the numbers in the list is: {result}\")"
      ],
      "metadata": {
        "colab": {
          "base_uri": "https://localhost:8080/"
        },
        "id": "JmP7D9zyAWFv",
        "outputId": "a4d5a0f8-483c-4450-8185-683a1e1887a1"
      },
      "id": "JmP7D9zyAWFv",
      "execution_count": 2,
      "outputs": [
        {
          "output_type": "stream",
          "name": "stdout",
          "text": [
            "The sum of all the numbers in the list is: 354\n"
          ]
        }
      ]
    },
    {
      "cell_type": "raw",
      "id": "81cef12a",
      "metadata": {
        "id": "81cef12a"
      },
      "source": [
        "Q3. Write a Python funciton to reverse a string given by the user."
      ]
    },
    {
      "cell_type": "code",
      "source": [
        "def reverse_string(s):\n",
        "    return s[::-1]\n",
        "\n",
        "# Get the string input from the user\n",
        "user_input = input(\"Enter a string: \")\n",
        "\n",
        "# Call the function and print the reversed string\n",
        "reversed_string = reverse_string(user_input)\n",
        "print(f\"The reversed string is: {reversed_string}\")"
      ],
      "metadata": {
        "colab": {
          "base_uri": "https://localhost:8080/"
        },
        "id": "2lbKtit5Bhsa",
        "outputId": "ce95c22f-9095-4cda-b831-43724bdcb081"
      },
      "id": "2lbKtit5Bhsa",
      "execution_count": 3,
      "outputs": [
        {
          "output_type": "stream",
          "name": "stdout",
          "text": [
            "Enter a string: cup\n",
            "The reversed string is: puc\n"
          ]
        }
      ]
    },
    {
      "cell_type": "raw",
      "id": "fe8b6435",
      "metadata": {
        "id": "fe8b6435"
      },
      "source": [
        "Q4.  Write a Python function that counts the number of digits, upper case letters and lower case letters in the given string : mystr = \"riChard@98#ABC\""
      ]
    },
    {
      "cell_type": "code",
      "source": [
        "def count_chars(mystr):\n",
        "    digit_count = sum(1 for char in mystr if char.isdigit())\n",
        "    uppercase_count = sum(1 for char in mystr if char.isupper())\n",
        "    lowercase_count = sum(1 for char in mystr if char.islower())\n",
        "    return digit_count, uppercase_count, lowercase_count\n",
        "\n",
        "mystr = \"riChard@98#ABC\"\n",
        "\n",
        "digit_count, uppercase_count, lowercase_count = count_chars(mystr)\n",
        "print(f\"Number of digits: {digit_count}\")\n",
        "print(f\"Number of uppercase letters: {uppercase_count}\")\n",
        "print(f\"Number of lowercase letters: {lowercase_count}\")"
      ],
      "metadata": {
        "colab": {
          "base_uri": "https://localhost:8080/"
        },
        "id": "Yw11o93-CE-I",
        "outputId": "985c420a-4d44-4272-a1ad-76c4df1852a4"
      },
      "id": "Yw11o93-CE-I",
      "execution_count": 4,
      "outputs": [
        {
          "output_type": "stream",
          "name": "stdout",
          "text": [
            "Number of digits: 2\n",
            "Number of uppercase letters: 4\n",
            "Number of lowercase letters: 6\n"
          ]
        }
      ]
    },
    {
      "cell_type": "raw",
      "id": "b4d24273",
      "metadata": {
        "id": "b4d24273"
      },
      "source": [
        "Q5. Write a Python function to print the prime numbers from a given list: ls = [10,11,12,15]"
      ]
    },
    {
      "cell_type": "code",
      "source": [
        "def is_prime(n):\n",
        "    if n <= 1:\n",
        "        return False\n",
        "    for i in range(2, int(n**0.5) + 1):\n",
        "        if n % i == 0:\n",
        "            return False\n",
        "    return True\n",
        "\n",
        "def print_prime_numbers(ls):\n",
        "    prime_numbers = []\n",
        "    for num in ls:\n",
        "        if is_prime(num):\n",
        "            prime_numbers.append(num)\n",
        "    if prime_numbers:\n",
        "        print(\"Prime numbers in the list:\", prime_numbers)\n",
        "    else:\n",
        "        print(\"There are no prime numbers in the list.\")\n",
        "\n",
        "ls = [10, 11, 12, 15]\n",
        "\n",
        "print_prime_numbers(ls)"
      ],
      "metadata": {
        "colab": {
          "base_uri": "https://localhost:8080/"
        },
        "id": "ep464jcqCNS-",
        "outputId": "62d0eabf-3533-4156-bba6-f915de864d1c"
      },
      "id": "ep464jcqCNS-",
      "execution_count": 5,
      "outputs": [
        {
          "output_type": "stream",
          "name": "stdout",
          "text": [
            "Prime numbers in the list: [11]\n"
          ]
        }
      ]
    },
    {
      "cell_type": "raw",
      "id": "8c76e7d2",
      "metadata": {
        "id": "8c76e7d2"
      },
      "source": [
        "Q6. Write a Python function to sort the given list in alphabetical order. str_list = [\"richard\", \"namgay\", \"ramper\"]"
      ]
    },
    {
      "cell_type": "code",
      "source": [
        "def sort_list_alphabetically(str_list):\n",
        "    sorted_list = sorted(str_list)\n",
        "    return sorted_list\n",
        "\n",
        "str_list = [\"richard\", \"namgay\", \"ramper\"]\n",
        "\n",
        "sorted_str_list = sort_list_alphabetically(str_list)\n",
        "print(\"List sorted alphabetically:\", sorted_str_list)"
      ],
      "metadata": {
        "colab": {
          "base_uri": "https://localhost:8080/"
        },
        "id": "zuZ8jiqODpfe",
        "outputId": "19dfd0f0-49e9-465d-ced7-a8d85c25a638"
      },
      "id": "zuZ8jiqODpfe",
      "execution_count": 10,
      "outputs": [
        {
          "output_type": "stream",
          "name": "stdout",
          "text": [
            "List sorted alphabetically: ['namgay', 'ramper', 'richard']\n"
          ]
        }
      ]
    },
    {
      "cell_type": "raw",
      "id": "db55eaed",
      "metadata": {
        "id": "db55eaed"
      },
      "source": [
        "Q7. Write a Python function to square a number given by user."
      ]
    },
    {
      "cell_type": "code",
      "source": [
        "def square_number(number):\n",
        "    return number ** 2\n",
        "\n",
        "user_input = float(input(\"Enter a number: \"))\n",
        "\n",
        "result = square_number(user_input)\n",
        "print(f\"The square of the number is: {result}\")"
      ],
      "metadata": {
        "colab": {
          "base_uri": "https://localhost:8080/"
        },
        "id": "9wKLOnaKDTOu",
        "outputId": "4dd13cb0-5da4-480c-c636-07dd34edc801"
      },
      "id": "9wKLOnaKDTOu",
      "execution_count": 9,
      "outputs": [
        {
          "output_type": "stream",
          "name": "stdout",
          "text": [
            "Enter a number: 5\n",
            "The square of the number is: 25.0\n"
          ]
        }
      ]
    },
    {
      "cell_type": "raw",
      "id": "09781352",
      "metadata": {
        "id": "09781352"
      },
      "source": [
        "Q8. Write a Python function to compute your age for the date of birth given by user."
      ]
    },
    {
      "cell_type": "code",
      "source": [
        "from datetime import datetime\n",
        "\n",
        "def calculate_age(date_of_birth):\n",
        "    today = datetime.today()\n",
        "    date_of_birth = datetime.strptime(date_of_birth, \"%Y-%m-%d\")\n",
        "    age = today.year - date_of_birth.year - ((today.month, today.day) < (date_of_birth.month, date_of_birth.day))\n",
        "    return age\n",
        "\n",
        "date_of_birth_input = input(\"Enter your date of birth (YYYY-MM-DD): \")\n",
        "\n",
        "age = calculate_age(date_of_birth_input)\n",
        "print(f\"Your age is: {age} years\")"
      ],
      "metadata": {
        "colab": {
          "base_uri": "https://localhost:8080/"
        },
        "id": "pP3RdsezDCcd",
        "outputId": "b23cad4a-7f62-4dc9-88ce-b8d6bf35927f"
      },
      "id": "pP3RdsezDCcd",
      "execution_count": 8,
      "outputs": [
        {
          "output_type": "stream",
          "name": "stdout",
          "text": [
            "Enter your date of birth (YYYY-MM-DD): 2004-03-11\n",
            "Your age is: 19 years\n"
          ]
        }
      ]
    },
    {
      "cell_type": "raw",
      "id": "d5a4f9a5",
      "metadata": {
        "id": "d5a4f9a5"
      },
      "source": [
        "Q9. Write a Python function to compute y = 3x^2-4x."
      ]
    },
    {
      "cell_type": "code",
      "source": [
        "def compute_y(x):\n",
        "    y = 3 * x ** 2 - 4 * x\n",
        "    return y\n",
        "\n",
        "x_value = 5\n",
        "result = compute_y(x_value)\n",
        "print(f\"The result of the equation for x = {x_value} is y = {result}\")"
      ],
      "metadata": {
        "colab": {
          "base_uri": "https://localhost:8080/"
        },
        "id": "kr7_9ydbC7i8",
        "outputId": "3e621408-0466-4889-9c0a-b2e278cd2382"
      },
      "id": "kr7_9ydbC7i8",
      "execution_count": 7,
      "outputs": [
        {
          "output_type": "stream",
          "name": "stdout",
          "text": [
            "The result of the equation for x = 5 is y = 55\n"
          ]
        }
      ]
    },
    {
      "cell_type": "raw",
      "id": "1c5d680b",
      "metadata": {
        "id": "1c5d680b"
      },
      "source": [
        "Q10. Write a Python function to create an email using a name given by user."
      ]
    },
    {
      "cell_type": "code",
      "source": [
        "def generate_email(name):\n",
        "    email = name.lower() + \"@example.com\"\n",
        "    return email\n",
        "\n",
        "name_input = input(\"Enter your name: \")\n",
        "\n",
        "email = generate_email(name_input)\n",
        "print(f\"The generated email is: {email}\")"
      ],
      "metadata": {
        "colab": {
          "base_uri": "https://localhost:8080/"
        },
        "id": "mmFqAspdCydS",
        "outputId": "bbe18917-57c0-4cff-ee26-3e436b3c15b7"
      },
      "id": "mmFqAspdCydS",
      "execution_count": 6,
      "outputs": [
        {
          "output_type": "stream",
          "name": "stdout",
          "text": [
            "Enter your name: MaySHinThant\n",
            "The generated email is: mayshinthant@example.com\n"
          ]
        }
      ]
    }
  ],
  "metadata": {
    "kernelspec": {
      "display_name": "Python 3",
      "language": "python",
      "name": "python3"
    },
    "language_info": {
      "codemirror_mode": {
        "name": "ipython",
        "version": 3
      },
      "file_extension": ".py",
      "mimetype": "text/x-python",
      "name": "python",
      "nbconvert_exporter": "python",
      "pygments_lexer": "ipython3",
      "version": "3.8.8"
    },
    "colab": {
      "provenance": []
    }
  },
  "nbformat": 4,
  "nbformat_minor": 5
}