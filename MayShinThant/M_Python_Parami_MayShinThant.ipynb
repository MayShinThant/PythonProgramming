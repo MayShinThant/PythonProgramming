{
  "nbformat": 4,
  "nbformat_minor": 0,
  "metadata": {
    "colab": {
      "provenance": []
    },
    "kernelspec": {
      "name": "python3",
      "display_name": "Python 3"
    },
    "language_info": {
      "name": "python"
    }
  },
  "cells": [
    {
      "cell_type": "markdown",
      "source": [
        "1) Write a Python program to create a dictionary that count the frequency of words in the string given in Q1.txt. Find the most frequent occured word."
      ],
      "metadata": {
        "id": "bBSbIZTtW7q4"
      }
    },
    {
      "cell_type": "code",
      "execution_count": null,
      "metadata": {
        "id": "l6y53V9ZWzox",
        "colab": {
          "base_uri": "https://localhost:8080/"
        },
        "outputId": "68cf15bb-fb80-4716-850d-0a332728d81f"
      },
      "outputs": [
        {
          "output_type": "stream",
          "name": "stdout",
          "text": [
            "Word Frequency Dictionary:\n",
            "Counter({'I': 4, 'and': 4, 'the': 3, 'to': 3, 'it': 3, 'It': 2, 'are': 2, 'love': 1, 'this': 1, 'movie!': 1, 'is': 1, 'sweet,': 1, 'but': 1, 'with': 1, 'satirical': 1, 'humor.': 1, 'The': 1, 'dialogs': 1, 'great': 1, 'adventure': 1, 'scenes': 1, 'fun.': 1, 'manages': 1, 'be': 1, 'romantic': 1, 'whimsical': 1, 'while': 1, 'laughingat': 1, 'conventions': 1, 'of': 1, 'fairy': 1, 'tale': 1, 'genre.': 1, 'would': 1, 'recommend': 1, 'just': 1, 'about': 1, 'anyone.': 1, 'have': 1, 'seen': 1, 'several': 1, 'times': 1, 'am': 1, 'always': 1, 'happy': 1, 'see': 1, 'again': 1, 'again.': 1})\n",
            "\n",
            "Most frequent occured word: I\n"
          ]
        }
      ],
      "source": [
        "from collections import Counter\n",
        "#step 1: read content from Q1.txt into list\n",
        "with open('Q1.txt', 'r') as file1:\n",
        "    wordlist = file1.read().strip().split()\n",
        "\n",
        "#Step 2:\n",
        "word_count_dict = {}\n",
        "word_count_dict = Counter(wordlist)\n",
        "\n",
        "#Step 3:\n",
        "most_occured_word = max(word_count_dict, key=word_count_dict.get)\n",
        "\n",
        "#Step 4:\n",
        "print(\"Word Frequency Dictionary:\")\n",
        "print(word_count_dict)\n",
        "print(\"\\nMost frequent occured word:\", most_occured_word)"
      ]
    },
    {
      "cell_type": "markdown",
      "source": [
        "2) Write a Python program to read the name from Q2.txt and create email using domain 'parami.edu.mm' and save the results as dictionary :\n",
        "{'name': 'name@parami.edu.mm'}.\n",
        "Please take note that your email should not include space or any special characters and all charcters should be in lowercase."
      ],
      "metadata": {
        "id": "aQP7q021Xr9W"
      }
    },
    {
      "cell_type": "code",
      "source": [
        "import re\n",
        "#step 1: read Q2. txt into the list\n",
        "with open ('Q2.txt', 'r') as names:\n",
        "    header = names.readline()\n",
        "    namelist = names.readlines()\n",
        "#step 2: create dictionary, remove spaces and special characters, make the characters in lowercase.\n",
        "email_dictionary = {}\n",
        "for name in namelist:\n",
        "    clean_name = re.sub(r'[^\\w\\s]', '', name.strip()).lower().replace(' ', '')\n",
        "    email = clean_name + '@parami.edu.mm'\n",
        "    email_dictionary[name.strip()] = email\n",
        "\n",
        "print(email_dictionary)\n"
      ],
      "metadata": {
        "id": "2B2TGvQCXuR3",
        "colab": {
          "base_uri": "https://localhost:8080/"
        },
        "outputId": "df060c81-eb2d-4faf-bbcc-213c1816fb10"
      },
      "execution_count": null,
      "outputs": [
        {
          "output_type": "stream",
          "name": "stdout",
          "text": [
            "{'Dechen Dorji': 'dechendorji@parami.edu.mm', 'Deki Tshomo': 'dekitshomo@parami.edu.mm', 'Dorji Tshering': 'dorjitshering@parami.edu.mm', 'Dorji Wangmo': 'dorjiwangmo@parami.edu.mm', 'Gem Tshering Lepcha': 'gemtsheringlepcha@parami.edu.mm', 'Jigme Dorji': 'jigmedorji@parami.edu.mm', 'Kinley Cheki': 'kinleycheki@parami.edu.mm', 'Kinley Wangmo': 'kinleywangmo@parami.edu.mm', 'Ngawang Dema Karpo': 'ngawangdemakarpo@parami.edu.mm', 'Roshan Chhetri': 'roshanchhetri@parami.edu.mm', 'Sonam Tenzin': 'sonamtenzin@parami.edu.mm', 'Sonam Tobgay': 'sonamtobgay@parami.edu.mm', 'Sonam Yangden': 'sonamyangden@parami.edu.mm', 'Tandin Om': 'tandinom@parami.edu.mm', 'Tandin Wangchuk': 'tandinwangchuk@parami.edu.mm', 'Tashi Om': 'tashiom@parami.edu.mm', 'Tenday Zangmo': 'tendayzangmo@parami.edu.mm', 'Tshering Pem': 'tsheringpem@parami.edu.mm', 'Ugyen Phurpa': 'ugyenphurpa@parami.edu.mm', 'Marmitt': 'marmitt@parami.edu.mm'}\n"
          ]
        }
      ]
    }
  ]
}